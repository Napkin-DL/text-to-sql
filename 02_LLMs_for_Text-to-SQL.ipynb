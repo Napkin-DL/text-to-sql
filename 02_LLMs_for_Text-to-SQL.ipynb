{
 "cells": [
  {
   "cell_type": "markdown",
   "id": "a192e4ee-cbab-442a-ac2a-e34058ac7393",
   "metadata": {},
   "source": [
    "# LLMs for Text-to-SQL"
   ]
  },
  {
   "cell_type": "code",
   "execution_count": 30,
   "id": "535a0b84-99d1-4eec-821f-51fbca794b5b",
   "metadata": {
    "tags": []
   },
   "outputs": [],
   "source": [
    "import os\n",
    "import json\n",
    "import boto3\n",
    "\n",
    "from botocore.exceptions import ClientError\n",
    "from botocore.config import Config\n",
    "\n",
    "def call_claude_msg(messages, system, bedrock_region_name='us-west-2', model=\"sonnet\", streaming=False):\n",
    "    retry_config = Config(\n",
    "        region_name=bedrock_region_name,\n",
    "        retries={\n",
    "            \"max_attempts\": 10,\n",
    "            \"mode\": \"standard\",\n",
    "        },\n",
    "    )\n",
    "\n",
    "    bedrock_runtime = boto3.client(service_name='bedrock-runtime',config=retry_config)\n",
    "    \n",
    "    prompt_config = {\n",
    "        \"anthropic_version\": \"bedrock-2023-05-31\",\n",
    "        \"max_tokens\": 512,\n",
    "        \"temperature\" : 0.0,\n",
    "        \"top_k\": 350,\n",
    "        \"top_p\": 0.999,\n",
    "        \"system\" : system,\n",
    "        \"messages\": messages\n",
    "    }\n",
    "\n",
    "    body = json.dumps(prompt_config)\n",
    "    \n",
    "    if model == \"sonnet\":\n",
    "        modelId = \"anthropic.claude-3-sonnet-20240229-v1:0\"\n",
    "    elif model == \"haiku\":\n",
    "        modelId = \"anthropic.claude-3-haiku-20240307-v1:0\"\n",
    "        \n",
    "    accept = \"application/json\"\n",
    "    contentType = \"application/json\"\n",
    "    \n",
    "    if streaming:        \n",
    "        response = bedrock_runtime.invoke_model_with_response_stream(\n",
    "            body=body, modelId=modelId, accept=accept, contentType=contentType\n",
    "        )\n",
    "        results=bedrock_streemer(response)\n",
    "    else:\n",
    "        response = bedrock_runtime.invoke_model(\n",
    "            body=body, modelId=modelId, accept=accept, contentType=contentType\n",
    "        )\n",
    "        response_body = json.loads(response.get(\"body\").read())\n",
    "        results = response_body.get(\"content\")[0].get(\"text\")\n",
    "    return results"
   ]
  },
  {
   "cell_type": "code",
   "execution_count": null,
   "id": "d476a5b7-d421-4cb4-bb89-0a2330c5a29a",
   "metadata": {},
   "outputs": [],
   "source": [
    "SQL_DIALECT = \"Postgre SQL\"\n",
    "\n",
    "EXAMPLE_DB_SCHEMA = \"\"\"\n",
    "\"table_schema\",\"table_name\",\"column_name\",\"data_type\",\"character_maximum_length\",\"numeric_precision\",\"column_default\",\"is_nullable\"\n",
    "\"public\",\"listings\",\"vehicle_id\",\"integer\",NULL,32,NULL,\"YES\"\n",
    "\"public\",\"listings\",\"price\",\"integer\",NULL,32,NULL,\"NO\"\n",
    "\"public\",\"listings\",\"mileage\",\"integer\",NULL,32,NULL,\"NO\"\n",
    "\"public\",\"listings\",\"region\",\"character varying\",20,NULL,NULL,\"YES\"\n",
    "...\n",
    "\"\"\"\n",
    "\n",
    "EXAMPLE_DB_CONSTRAINTS = \"\"\"\n",
    "\"table_schema\",\"table_name\",\"constraint_name\",\"constraint_type\",\"column_name\",\"foreign_table_schema\",\"foreign_table_name\",\"foreign_column_name\"\n",
    "\"public\",\"listings\",\"listings_vehicle_id_fkey\",\"FOREIGN KEY\",\"vehicle_id\",\"public\",\"vehicles\",\"vehicle_id\"\n",
    "....\n",
    "\"\"\"\n",
    "QUESTION = \"캘리포니아에서 몇 대의 차가 팔렸습니까?\""
   ]
  },
  {
   "cell_type": "code",
   "execution_count": 41,
   "id": "1eed8e74-8b27-4b32-8a70-c0390b08723a",
   "metadata": {
    "tags": []
   },
   "outputs": [],
   "source": [
    "SQL_DIALECT = \"Postgre SQL\"\n",
    "\n",
    "EXAMPLE_DB_SCHEMA = \"\"\"\n",
    "\"table_schema\",\"table_name\",\"column_name\",\"data_type\",\"character_maximum_length\",\"numeric_precision\",\"column_default\",\"is_nullable\"\n",
    "\"public\",\"listings\",\"vehicle_id\",\"integer\",NULL,32,NULL,\"YES\"\n",
    "\"public\",\"listings\",\"price\",\"integer\",NULL,32,NULL,\"NO\"\n",
    "\"public\",\"listings\",\"mileage\",\"integer\",NULL,32,NULL,\"NO\"\n",
    "\"public\",\"listings\",\"region\",\"character varying\",20,NULL,NULL,\"YES\"\n",
    "\"public\",\"regions\",\"vehicle_id\",\"integer\",NULL,32,NULL,\"YES\"\n",
    "\"public\",\"regions\",\"city\",\"character varying\",100,NULL,NULL,\"NO\"\n",
    "\"public\",\"regions\",\"state\",\"character varying\",2,NULL,NULL,\"NO\"\n",
    "\"public\",\"regions\",\"county\",\"character varying\",100,NULL,NULL,\"YES\"\n",
    "\"public\",\"regions\",\"region\",\"character varying\",20,NULL,NULL,\"YES\"\n",
    "\"public\",\"vehicles\",\"vehicle_id\",\"integer\",NULL,32,\"nextval('vehicles_vehicle_id_seq'::regclass)\",\"NO\"\n",
    "\"public\",\"vehicles\",\"make\",\"character varying\",50,NULL,NULL,\"NO\"\n",
    "\"public\",\"vehicles\",\"model\",\"character varying\",100,NULL,NULL,\"NO\"\n",
    "\"public\",\"vehicles\",\"year\",\"smallint\",NULL,16,NULL,\"NO\"\n",
    "\"public\",\"vehicles\",\"vin\",\"character varying\",17,NULL,NULL,\"NO\"\n",
    "\"public\",\"vehicles\",\"created_on\",\"timestamp without time zone\",NULL,NULL,\"CURRENT_TIMESTAMP\",\"NO\"\n",
    "\"\"\"\n",
    "\n",
    "EXAMPLE_DB_CONSTRAINTS = \"\"\"\n",
    "\"table_schema\",\"table_name\",\"constraint_name\",\"constraint_type\",\"column_name\",\"foreign_table_schema\",\"foreign_table_name\",\"foreign_column_name\"\n",
    "\"public\",\"listings\",\"listings_vehicle_id_fkey\",\"FOREIGN KEY\",\"vehicle_id\",\"public\",\"vehicles\",\"vehicle_id\"\n",
    "\"public\",\"regions\",\"regions_vehicle_id_fkey\",\"FOREIGN KEY\",\"vehicle_id\",\"public\",\"vehicles\",\"vehicle_id\"\n",
    "\"public\",\"vehicles\",\"vehicles_pkey\",\"PRIMARY KEY\",\"vehicle_id\",\"public\",\"vehicles\",\"vehicle_id\"\n",
    "\"public\",\"vehicles\",\"vehicles_vin_key\",\"UNIQUE\",\"vin\",\"public\",\"vehicles\",\"vin\"\n",
    "\"\"\"\n",
    "\n",
    "QUESTION = \"How many cars were sold in California?\"\n",
    "QUESTION = \"캘리포니아에서 몇 대의 차가 팔렸습니까?\"\n"
   ]
  },
  {
   "cell_type": "code",
   "execution_count": 42,
   "id": "35cac695-97e0-4216-9186-dc31f3c022ed",
   "metadata": {
    "tags": []
   },
   "outputs": [],
   "source": [
    "system_message = \"\"\"\n",
    "    당신은 SQL 쿼리를 생성하는 {} bot입니다.\n",
    "\"\"\"\n",
    "\n",
    "user_message = \"\"\"\n",
    "    필요한 테이블 이름에 대해 '데이터베이스 제약 조건' 및 '테이블 요약'의 데이터셋(.csv 문자열로 포맷됨)이 제공됩니다. \n",
    "    질문에 가장 정확하게 답변할 수 있도록 테이블에서 데이터를 검색하는 구문적으로 올바른 {} SQL 쿼리를 생성해야 합니다.\n",
    "\n",
    "    쿼리 생성 방법 가이드:\n",
    "    - 질문에 세부 사항에 주의를 기울이고 정확히 지침을 따르세요.\n",
    "    - 쿼리만 반환하고 다른 것은 반환하지 마세요. 텍스트로 질문에 답변하지 마세요.\n",
    "    - 예시 출력 쿼리: 'SELECT * FROM table_name'.\n",
    "\n",
    "    관련 테이블의 '데이터베이스 제약 조건'은 {}입니다.\n",
    "    관련 테이블의 '테이블 요약'은 {}입니다.\n",
    "\n",
    "    질문은 {}입니다.\n",
    "\"\"\"\n",
    "\n",
    "# user_message = \"\"\"\n",
    "#     You are given the datasets of database constraints and table summaries (formatted as .csv strings) for the required table names. \n",
    "#     You are required to generate a syntactically correct {} SQL query that retrieves the data from the tables that would help answer the question most accurately. \n",
    "\n",
    "#     Guide on how to generate the query:\n",
    "#        - Pay attention to the details of the question: accurately follow the instructions. \n",
    "#        - Return only the query and nothing else. Do not return anything other than a query. Do not answer the question with text.\n",
    "#        - Example output query: 'SELECT * FROM table_name'. \n",
    "\n",
    "#     Database constraints for the relevant tables are: {}. \n",
    "#     Table summaries for the relevant tables are: {}.  \n",
    "\n",
    "#     The question is: {}.\n",
    "# \"\"\"\n",
    "\n",
    "system = system_message.format(SQL_DIALECT)\n",
    "text_prompt = user_message.format(SQL_DIALECT, EXAMPLE_DB_CONSTRAINTS, EXAMPLE_DB_SCHEMA, QUESTION)"
   ]
  },
  {
   "cell_type": "code",
   "execution_count": 45,
   "id": "ee3d9f36-804d-44ca-a0bd-36f7e6a981a6",
   "metadata": {
    "tags": []
   },
   "outputs": [
    {
     "name": "stdout",
     "output_type": "stream",
     "text": [
      "SELECT COUNT(*) \n",
      "FROM listings l\n",
      "JOIN regions r ON l.vehicle_id = r.vehicle_id\n",
      "WHERE r.state = 'CA';\n"
     ]
    }
   ],
   "source": [
    "messages = [\n",
    "  {\"role\": \"user\", \"content\": [\n",
    "      {\"type\": \"text\", \"text\": text_prompt}]}\n",
    "]\n",
    "bedrock_region_name = 'us-west-2'\n",
    "response = call_claude_msg(messages, system, bedrock_region_name, 'haiku')\n",
    "print(response)"
   ]
  },
  {
   "cell_type": "code",
   "execution_count": 46,
   "id": "e0a97ea8-b50c-43ec-9c1f-4b7c6da10980",
   "metadata": {
    "tags": []
   },
   "outputs": [],
   "source": [
    "# EXAMPLE_KNOWLEDGE = {\n",
    "#     \"Question\": \"How many cars were sold in California?\", \n",
    "#     \"Explanation\": \"The number of cars sold in California State in the USA\", \n",
    "#     \"Query\": \"\"\"\n",
    "#              SELECT COUNT(*) FROM listings \n",
    "#              JOIN regions ON listings.vehicle_id = regions.vehicle_id \n",
    "#              WHERE regions.state = 'California' OR regions.state = 'CALIFORNIA';\n",
    "#              \"\"\", \n",
    "# }\n",
    "EXAMPLE_KNOWLEDGE = {\n",
    "    \"문의\": \"캘리포니아에서 몇 대의 자동차가 판매되었나요?\",\n",
    "    \"설명\": \"미국 캘리포니아 주에서 판매된 자동차의 수\",\n",
    "    \"쿼리\": \"\"\"\n",
    "             리스팅 테이블과 지역 테이블을 vehicle_id 열을 기준으로 조인한 후\n",
    "             지역 테이블의 state 열 값이 'California' 또는 'CALIFORNIA'인 레코드의 수를 계산합니다.\n",
    "             \"\"\"\n",
    "}\n",
    "\n",
    "# QUESTION_W_KNOWLEDGE = \"How many cars were sold in California in 2003?\"\n",
    "QUESTION_W_KNOWLEDGE = \"2003년 캘리포니아에서 몇 대의 자동차가 판매되었습니까?\""
   ]
  },
  {
   "cell_type": "code",
   "execution_count": 47,
   "id": "9a47e61d-e3af-4d5d-b03a-d45a807fecee",
   "metadata": {
    "tags": []
   },
   "outputs": [],
   "source": [
    "user_message = \"\"\"\n",
    "    You are given the datasets of database constraints and table summaries (formatted as .csv strings) for the required table names. \n",
    "    You are required to generate a syntactically correct {} SQL query that retrieves the data from the tables that would help answer the question most accurately. \n",
    "\n",
    "    Guide on how to generate the query:\n",
    "       - Pay attention to the details of the question: accurately follow the instructions. \n",
    "       - Return only the query and nothing else. Do not return anything other than a query. Do not answer the question with text.\n",
    "       - You may or may not be provided a relevant ground truth example. Use it to generate a more accurate query.\n",
    "       - Example output query: 'SELECT * FROM table_name'. \n",
    "\n",
    "    Database constraints for the relevant tables are: {}. \n",
    "    Table summaries for the relevant tables are: {}.  \n",
    "    Ground truth example is: {}.\n",
    "\n",
    "    The question is: {}.\n",
    "\"\"\"\n",
    "\n",
    "user_message = \"\"\"\n",
    "    필요한 테이블 이름에 대해 '데이터베이스 제약 조건' 및 '테이블 요약'의 데이터셋(.csv 문자열로 포맷됨)이 제공됩니다. \n",
    "    질문에 가장 정확하게 답변할 수 있도록 테이블에서 데이터를 검색하는 구문적으로 올바른 {} SQL 쿼리를 생성해야 합니다.\n",
    "\n",
    "    쿼리 생성 방법 가이드:\n",
    "    - 질문에 세부 사항에 주의를 기울이고 정확히 지침을 따르세요.\n",
    "    - 쿼리만 반환하고 다른 것은 반환하지 마세요. 텍스트로 질문에 답변하지 마세요.\n",
    "    - 관련된 실제 예시가 제공될 수도 있고 그렇지 않을 수도 있습니다. 더 정확한 쿼리를 만들기 위해 예시를 활용하세요.\n",
    "    - 예시 출력 쿼리: 'SELECT * FROM table_name'.\n",
    "\n",
    "    관련 테이블의 '데이터베이스 제약 조건'은 {}입니다.\n",
    "    관련 테이블의 '테이블 요약'은 {}입니다.\n",
    "    정답 예시는: {}입니다.\n",
    "\n",
    "    질문은 {}입니다.\n",
    "\"\"\"\n",
    "\n",
    "text_prompt = user_message.format(SQL_DIALECT, EXAMPLE_DB_CONSTRAINTS, EXAMPLE_DB_SCHEMA, EXAMPLE_KNOWLEDGE, QUESTION_W_KNOWLEDGE)"
   ]
  },
  {
   "cell_type": "code",
   "execution_count": 48,
   "id": "1fc3c95d-8a33-4cf4-821c-4ddcc2f3e9f1",
   "metadata": {
    "tags": []
   },
   "outputs": [
    {
     "name": "stdout",
     "output_type": "stream",
     "text": [
      "SELECT COUNT(*) \n",
      "FROM listings l\n",
      "JOIN regions r ON l.vehicle_id = r.vehicle_id\n",
      "WHERE r.state IN ('California', 'CALIFORNIA')\n",
      "  AND l.created_on BETWEEN '2003-01-01' AND '2003-12-31';\n"
     ]
    }
   ],
   "source": [
    "messages = [\n",
    "  {\"role\": \"user\", \"content\": [\n",
    "      {\"type\": \"text\", \"text\": text_prompt}]}\n",
    "]\n",
    "bedrock_region_name = 'us-west-2'\n",
    "response = call_claude_msg(messages, system, bedrock_region_name, 'haiku')\n",
    "print(response)"
   ]
  },
  {
   "cell_type": "code",
   "execution_count": null,
   "id": "13630c6b-612a-40ca-bc7e-33b61bd0e8bf",
   "metadata": {},
   "outputs": [],
   "source": []
  }
 ],
 "metadata": {
  "kernelspec": {
   "display_name": "conda_python3",
   "language": "python",
   "name": "conda_python3"
  },
  "language_info": {
   "codemirror_mode": {
    "name": "ipython",
    "version": 3
   },
   "file_extension": ".py",
   "mimetype": "text/x-python",
   "name": "python",
   "nbconvert_exporter": "python",
   "pygments_lexer": "ipython3",
   "version": "3.10.13"
  }
 },
 "nbformat": 4,
 "nbformat_minor": 5
}
